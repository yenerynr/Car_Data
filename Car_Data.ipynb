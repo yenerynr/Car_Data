{
 "cells": [
  {
   "cell_type": "code",
   "execution_count": 6,
   "metadata": {},
   "outputs": [],
   "source": [
    "## import libraries\n",
    "import numpy as np\n",
    "import pandas as pd\n",
    "import matplotlib.pyplot as plt\n",
    "import seaborn as sns \n",
    "from sklearn.model_selection import train_test_split\n",
    "from sklearn.linear_model import LogisticRegression\n",
    "from sklearn.naive_bayes import GaussianNB\n",
    "from sklearn.linear_model import LinearRegression\n",
    "from sklearn.linear_model import Lasso\n",
    "from sklearn import metrics, svm\n",
    "from sklearn.tree import DecisionTreeClassifier\n",
    "from sklearn.ensemble import RandomForestRegressor\n",
    "from sklearn.neighbors import KNeighborsClassifier\n",
    "from sklearn.preprocessing import PolynomialFeatures\n",
    "from sklearn.linear_model import Ridge\n",
    "from sklearn.metrics import accuracy_score\n",
    "from sklearn.metrics import accuracy_score, confusion_matrix\n",
    "from sklearn import metrics"
   ]
  },
  {
   "cell_type": "code",
   "execution_count": 7,
   "metadata": {},
   "outputs": [
    {
     "data": {
      "text/html": [
       "<div>\n",
       "<style scoped>\n",
       "    .dataframe tbody tr th:only-of-type {\n",
       "        vertical-align: middle;\n",
       "    }\n",
       "\n",
       "    .dataframe tbody tr th {\n",
       "        vertical-align: top;\n",
       "    }\n",
       "\n",
       "    .dataframe thead th {\n",
       "        text-align: right;\n",
       "    }\n",
       "</style>\n",
       "<table border=\"1\" class=\"dataframe\">\n",
       "  <thead>\n",
       "    <tr style=\"text-align: right;\">\n",
       "      <th></th>\n",
       "      <th>name</th>\n",
       "      <th>year</th>\n",
       "      <th>km_driven</th>\n",
       "      <th>mileage</th>\n",
       "      <th>engine</th>\n",
       "      <th>max_power</th>\n",
       "      <th>selling_price</th>\n",
       "    </tr>\n",
       "  </thead>\n",
       "  <tbody>\n",
       "    <tr>\n",
       "      <th>0</th>\n",
       "      <td>Maruti Swift Dzire VDI</td>\n",
       "      <td>2014</td>\n",
       "      <td>145500</td>\n",
       "      <td>23.40</td>\n",
       "      <td>1248</td>\n",
       "      <td>74.00</td>\n",
       "      <td>450000</td>\n",
       "    </tr>\n",
       "    <tr>\n",
       "      <th>1</th>\n",
       "      <td>Skoda Rapid 1.5 TDI Ambition</td>\n",
       "      <td>2014</td>\n",
       "      <td>120000</td>\n",
       "      <td>21.14</td>\n",
       "      <td>1498</td>\n",
       "      <td>103.52</td>\n",
       "      <td>370000</td>\n",
       "    </tr>\n",
       "    <tr>\n",
       "      <th>2</th>\n",
       "      <td>Honda City 2017-2020 EXi</td>\n",
       "      <td>2006</td>\n",
       "      <td>140000</td>\n",
       "      <td>17.70</td>\n",
       "      <td>1497</td>\n",
       "      <td>78.00</td>\n",
       "      <td>158000</td>\n",
       "    </tr>\n",
       "    <tr>\n",
       "      <th>3</th>\n",
       "      <td>Hyundai i20 Sportz Diesel</td>\n",
       "      <td>2010</td>\n",
       "      <td>127000</td>\n",
       "      <td>23.00</td>\n",
       "      <td>1396</td>\n",
       "      <td>90.00</td>\n",
       "      <td>225000</td>\n",
       "    </tr>\n",
       "    <tr>\n",
       "      <th>4</th>\n",
       "      <td>Maruti Swift VXI BSIII</td>\n",
       "      <td>2007</td>\n",
       "      <td>120000</td>\n",
       "      <td>16.10</td>\n",
       "      <td>1298</td>\n",
       "      <td>88.20</td>\n",
       "      <td>130000</td>\n",
       "    </tr>\n",
       "    <tr>\n",
       "      <th>...</th>\n",
       "      <td>...</td>\n",
       "      <td>...</td>\n",
       "      <td>...</td>\n",
       "      <td>...</td>\n",
       "      <td>...</td>\n",
       "      <td>...</td>\n",
       "      <td>...</td>\n",
       "    </tr>\n",
       "    <tr>\n",
       "      <th>7901</th>\n",
       "      <td>Hyundai i20 Magna</td>\n",
       "      <td>2013</td>\n",
       "      <td>110000</td>\n",
       "      <td>18.50</td>\n",
       "      <td>1197</td>\n",
       "      <td>82.85</td>\n",
       "      <td>320000</td>\n",
       "    </tr>\n",
       "    <tr>\n",
       "      <th>7902</th>\n",
       "      <td>Hyundai Verna CRDi SX</td>\n",
       "      <td>2007</td>\n",
       "      <td>119000</td>\n",
       "      <td>16.80</td>\n",
       "      <td>1493</td>\n",
       "      <td>110.00</td>\n",
       "      <td>135000</td>\n",
       "    </tr>\n",
       "    <tr>\n",
       "      <th>7903</th>\n",
       "      <td>Maruti Swift Dzire ZDi</td>\n",
       "      <td>2009</td>\n",
       "      <td>120000</td>\n",
       "      <td>19.30</td>\n",
       "      <td>1248</td>\n",
       "      <td>73.90</td>\n",
       "      <td>382000</td>\n",
       "    </tr>\n",
       "    <tr>\n",
       "      <th>7904</th>\n",
       "      <td>Tata Indigo CR4</td>\n",
       "      <td>2013</td>\n",
       "      <td>25000</td>\n",
       "      <td>23.57</td>\n",
       "      <td>1396</td>\n",
       "      <td>70.00</td>\n",
       "      <td>290000</td>\n",
       "    </tr>\n",
       "    <tr>\n",
       "      <th>7905</th>\n",
       "      <td>Tata Indigo CR4</td>\n",
       "      <td>2013</td>\n",
       "      <td>25000</td>\n",
       "      <td>23.57</td>\n",
       "      <td>1396</td>\n",
       "      <td>70.00</td>\n",
       "      <td>290000</td>\n",
       "    </tr>\n",
       "  </tbody>\n",
       "</table>\n",
       "<p>7906 rows × 7 columns</p>\n",
       "</div>"
      ],
      "text/plain": [
       "                              name  year  km_driven  mileage  engine  \\\n",
       "0           Maruti Swift Dzire VDI  2014     145500    23.40    1248   \n",
       "1     Skoda Rapid 1.5 TDI Ambition  2014     120000    21.14    1498   \n",
       "2         Honda City 2017-2020 EXi  2006     140000    17.70    1497   \n",
       "3        Hyundai i20 Sportz Diesel  2010     127000    23.00    1396   \n",
       "4           Maruti Swift VXI BSIII  2007     120000    16.10    1298   \n",
       "...                            ...   ...        ...      ...     ...   \n",
       "7901             Hyundai i20 Magna  2013     110000    18.50    1197   \n",
       "7902         Hyundai Verna CRDi SX  2007     119000    16.80    1493   \n",
       "7903        Maruti Swift Dzire ZDi  2009     120000    19.30    1248   \n",
       "7904               Tata Indigo CR4  2013      25000    23.57    1396   \n",
       "7905               Tata Indigo CR4  2013      25000    23.57    1396   \n",
       "\n",
       "      max_power  selling_price  \n",
       "0         74.00         450000  \n",
       "1        103.52         370000  \n",
       "2         78.00         158000  \n",
       "3         90.00         225000  \n",
       "4         88.20         130000  \n",
       "...         ...            ...  \n",
       "7901      82.85         320000  \n",
       "7902     110.00         135000  \n",
       "7903      73.90         382000  \n",
       "7904      70.00         290000  \n",
       "7905      70.00         290000  \n",
       "\n",
       "[7906 rows x 7 columns]"
      ]
     },
     "execution_count": 7,
     "metadata": {},
     "output_type": "execute_result"
    }
   ],
   "source": [
    "## load the dataset\n",
    "df = pd.read_csv('Car_Data.csv')\n",
    "df"
   ]
  },
  {
   "cell_type": "code",
   "execution_count": 8,
   "metadata": {},
   "outputs": [
    {
     "name": "stdout",
     "output_type": "stream",
     "text": [
      "<class 'pandas.core.frame.DataFrame'>\n",
      "RangeIndex: 7906 entries, 0 to 7905\n",
      "Data columns (total 7 columns):\n",
      " #   Column         Non-Null Count  Dtype  \n",
      "---  ------         --------------  -----  \n",
      " 0   name           7906 non-null   object \n",
      " 1   year           7906 non-null   int64  \n",
      " 2   km_driven      7906 non-null   int64  \n",
      " 3   mileage        7906 non-null   float64\n",
      " 4   engine         7906 non-null   int64  \n",
      " 5   max_power      7906 non-null   float64\n",
      " 6   selling_price  7906 non-null   int64  \n",
      "dtypes: float64(2), int64(4), object(1)\n",
      "memory usage: 432.5+ KB\n"
     ]
    }
   ],
   "source": [
    "df.info()"
   ]
  },
  {
   "cell_type": "code",
   "execution_count": 9,
   "metadata": {},
   "outputs": [
    {
     "data": {
      "text/html": [
       "<div>\n",
       "<style scoped>\n",
       "    .dataframe tbody tr th:only-of-type {\n",
       "        vertical-align: middle;\n",
       "    }\n",
       "\n",
       "    .dataframe tbody tr th {\n",
       "        vertical-align: top;\n",
       "    }\n",
       "\n",
       "    .dataframe thead th {\n",
       "        text-align: right;\n",
       "    }\n",
       "</style>\n",
       "<table border=\"1\" class=\"dataframe\">\n",
       "  <thead>\n",
       "    <tr style=\"text-align: right;\">\n",
       "      <th></th>\n",
       "      <th>year</th>\n",
       "      <th>km_driven</th>\n",
       "      <th>mileage</th>\n",
       "      <th>engine</th>\n",
       "      <th>max_power</th>\n",
       "      <th>selling_price</th>\n",
       "    </tr>\n",
       "  </thead>\n",
       "  <tbody>\n",
       "    <tr>\n",
       "      <th>0</th>\n",
       "      <td>2014</td>\n",
       "      <td>145500</td>\n",
       "      <td>23.40</td>\n",
       "      <td>1248</td>\n",
       "      <td>74.00</td>\n",
       "      <td>450000</td>\n",
       "    </tr>\n",
       "    <tr>\n",
       "      <th>1</th>\n",
       "      <td>2014</td>\n",
       "      <td>120000</td>\n",
       "      <td>21.14</td>\n",
       "      <td>1498</td>\n",
       "      <td>103.52</td>\n",
       "      <td>370000</td>\n",
       "    </tr>\n",
       "    <tr>\n",
       "      <th>2</th>\n",
       "      <td>2006</td>\n",
       "      <td>140000</td>\n",
       "      <td>17.70</td>\n",
       "      <td>1497</td>\n",
       "      <td>78.00</td>\n",
       "      <td>158000</td>\n",
       "    </tr>\n",
       "    <tr>\n",
       "      <th>3</th>\n",
       "      <td>2010</td>\n",
       "      <td>127000</td>\n",
       "      <td>23.00</td>\n",
       "      <td>1396</td>\n",
       "      <td>90.00</td>\n",
       "      <td>225000</td>\n",
       "    </tr>\n",
       "    <tr>\n",
       "      <th>4</th>\n",
       "      <td>2007</td>\n",
       "      <td>120000</td>\n",
       "      <td>16.10</td>\n",
       "      <td>1298</td>\n",
       "      <td>88.20</td>\n",
       "      <td>130000</td>\n",
       "    </tr>\n",
       "    <tr>\n",
       "      <th>...</th>\n",
       "      <td>...</td>\n",
       "      <td>...</td>\n",
       "      <td>...</td>\n",
       "      <td>...</td>\n",
       "      <td>...</td>\n",
       "      <td>...</td>\n",
       "    </tr>\n",
       "    <tr>\n",
       "      <th>7901</th>\n",
       "      <td>2013</td>\n",
       "      <td>110000</td>\n",
       "      <td>18.50</td>\n",
       "      <td>1197</td>\n",
       "      <td>82.85</td>\n",
       "      <td>320000</td>\n",
       "    </tr>\n",
       "    <tr>\n",
       "      <th>7902</th>\n",
       "      <td>2007</td>\n",
       "      <td>119000</td>\n",
       "      <td>16.80</td>\n",
       "      <td>1493</td>\n",
       "      <td>110.00</td>\n",
       "      <td>135000</td>\n",
       "    </tr>\n",
       "    <tr>\n",
       "      <th>7903</th>\n",
       "      <td>2009</td>\n",
       "      <td>120000</td>\n",
       "      <td>19.30</td>\n",
       "      <td>1248</td>\n",
       "      <td>73.90</td>\n",
       "      <td>382000</td>\n",
       "    </tr>\n",
       "    <tr>\n",
       "      <th>7904</th>\n",
       "      <td>2013</td>\n",
       "      <td>25000</td>\n",
       "      <td>23.57</td>\n",
       "      <td>1396</td>\n",
       "      <td>70.00</td>\n",
       "      <td>290000</td>\n",
       "    </tr>\n",
       "    <tr>\n",
       "      <th>7905</th>\n",
       "      <td>2013</td>\n",
       "      <td>25000</td>\n",
       "      <td>23.57</td>\n",
       "      <td>1396</td>\n",
       "      <td>70.00</td>\n",
       "      <td>290000</td>\n",
       "    </tr>\n",
       "  </tbody>\n",
       "</table>\n",
       "<p>7906 rows × 6 columns</p>\n",
       "</div>"
      ],
      "text/plain": [
       "      year  km_driven  mileage  engine  max_power  selling_price\n",
       "0     2014     145500    23.40    1248      74.00         450000\n",
       "1     2014     120000    21.14    1498     103.52         370000\n",
       "2     2006     140000    17.70    1497      78.00         158000\n",
       "3     2010     127000    23.00    1396      90.00         225000\n",
       "4     2007     120000    16.10    1298      88.20         130000\n",
       "...    ...        ...      ...     ...        ...            ...\n",
       "7901  2013     110000    18.50    1197      82.85         320000\n",
       "7902  2007     119000    16.80    1493     110.00         135000\n",
       "7903  2009     120000    19.30    1248      73.90         382000\n",
       "7904  2013      25000    23.57    1396      70.00         290000\n",
       "7905  2013      25000    23.57    1396      70.00         290000\n",
       "\n",
       "[7906 rows x 6 columns]"
      ]
     },
     "execution_count": 9,
     "metadata": {},
     "output_type": "execute_result"
    }
   ],
   "source": [
    "df = df.drop(columns=['name'])\n",
    "df"
   ]
  },
  {
   "cell_type": "code",
   "execution_count": 10,
   "metadata": {},
   "outputs": [
    {
     "name": "stdout",
     "output_type": "stream",
     "text": [
      "<class 'pandas.core.frame.DataFrame'>\n",
      "RangeIndex: 7906 entries, 0 to 7905\n",
      "Data columns (total 6 columns):\n",
      " #   Column         Non-Null Count  Dtype  \n",
      "---  ------         --------------  -----  \n",
      " 0   year           7906 non-null   int64  \n",
      " 1   km_driven      7906 non-null   int64  \n",
      " 2   mileage        7906 non-null   float64\n",
      " 3   engine         7906 non-null   int64  \n",
      " 4   max_power      7906 non-null   float64\n",
      " 5   selling_price  7906 non-null   int64  \n",
      "dtypes: float64(2), int64(4)\n",
      "memory usage: 370.7 KB\n"
     ]
    }
   ],
   "source": [
    "df.info()"
   ]
  },
  {
   "cell_type": "code",
   "execution_count": 11,
   "metadata": {},
   "outputs": [
    {
     "data": {
      "text/html": [
       "<div>\n",
       "<style scoped>\n",
       "    .dataframe tbody tr th:only-of-type {\n",
       "        vertical-align: middle;\n",
       "    }\n",
       "\n",
       "    .dataframe tbody tr th {\n",
       "        vertical-align: top;\n",
       "    }\n",
       "\n",
       "    .dataframe thead th {\n",
       "        text-align: right;\n",
       "    }\n",
       "</style>\n",
       "<table border=\"1\" class=\"dataframe\">\n",
       "  <thead>\n",
       "    <tr style=\"text-align: right;\">\n",
       "      <th></th>\n",
       "      <th>year</th>\n",
       "      <th>km_driven</th>\n",
       "      <th>mileage</th>\n",
       "      <th>engine</th>\n",
       "      <th>max_power</th>\n",
       "      <th>selling_price</th>\n",
       "    </tr>\n",
       "  </thead>\n",
       "  <tbody>\n",
       "    <tr>\n",
       "      <th>year</th>\n",
       "      <td>1.000000</td>\n",
       "      <td>-0.428548</td>\n",
       "      <td>0.328544</td>\n",
       "      <td>0.018263</td>\n",
       "      <td>0.226598</td>\n",
       "      <td>0.412302</td>\n",
       "    </tr>\n",
       "    <tr>\n",
       "      <th>km_driven</th>\n",
       "      <td>-0.428548</td>\n",
       "      <td>1.000000</td>\n",
       "      <td>-0.172980</td>\n",
       "      <td>0.206031</td>\n",
       "      <td>-0.038159</td>\n",
       "      <td>-0.222158</td>\n",
       "    </tr>\n",
       "    <tr>\n",
       "      <th>mileage</th>\n",
       "      <td>0.328544</td>\n",
       "      <td>-0.172980</td>\n",
       "      <td>1.000000</td>\n",
       "      <td>-0.576408</td>\n",
       "      <td>-0.374621</td>\n",
       "      <td>-0.126280</td>\n",
       "    </tr>\n",
       "    <tr>\n",
       "      <th>engine</th>\n",
       "      <td>0.018263</td>\n",
       "      <td>0.206031</td>\n",
       "      <td>-0.576408</td>\n",
       "      <td>1.000000</td>\n",
       "      <td>0.703974</td>\n",
       "      <td>0.455682</td>\n",
       "    </tr>\n",
       "    <tr>\n",
       "      <th>max_power</th>\n",
       "      <td>0.226598</td>\n",
       "      <td>-0.038159</td>\n",
       "      <td>-0.374621</td>\n",
       "      <td>0.703974</td>\n",
       "      <td>1.000000</td>\n",
       "      <td>0.749674</td>\n",
       "    </tr>\n",
       "    <tr>\n",
       "      <th>selling_price</th>\n",
       "      <td>0.412302</td>\n",
       "      <td>-0.222158</td>\n",
       "      <td>-0.126280</td>\n",
       "      <td>0.455682</td>\n",
       "      <td>0.749674</td>\n",
       "      <td>1.000000</td>\n",
       "    </tr>\n",
       "  </tbody>\n",
       "</table>\n",
       "</div>"
      ],
      "text/plain": [
       "                   year  km_driven   mileage    engine  max_power  \\\n",
       "year           1.000000  -0.428548  0.328544  0.018263   0.226598   \n",
       "km_driven     -0.428548   1.000000 -0.172980  0.206031  -0.038159   \n",
       "mileage        0.328544  -0.172980  1.000000 -0.576408  -0.374621   \n",
       "engine         0.018263   0.206031 -0.576408  1.000000   0.703974   \n",
       "max_power      0.226598  -0.038159 -0.374621  0.703974   1.000000   \n",
       "selling_price  0.412302  -0.222158 -0.126280  0.455682   0.749674   \n",
       "\n",
       "               selling_price  \n",
       "year                0.412302  \n",
       "km_driven          -0.222158  \n",
       "mileage            -0.126280  \n",
       "engine              0.455682  \n",
       "max_power           0.749674  \n",
       "selling_price       1.000000  "
      ]
     },
     "execution_count": 11,
     "metadata": {},
     "output_type": "execute_result"
    }
   ],
   "source": [
    "## correlation matrix\n",
    "corr_matrix = df.corr()\n",
    "corr_matrix"
   ]
  },
  {
   "cell_type": "code",
   "execution_count": 12,
   "metadata": {},
   "outputs": [
    {
     "data": {
      "text/plain": [
       "<matplotlib.axes._subplots.AxesSubplot at 0x2868c62cf70>"
      ]
     },
     "execution_count": 12,
     "metadata": {},
     "output_type": "execute_result"
    },
    {
     "data": {
      "image/png": "[encoded data removed]",
      "text/plain": [
       "<Figure size 720x720 with 2 Axes>"
      ]
     },
     "metadata": {
      "needs_background": "light"
     },
     "output_type": "display_data"
    }
   ],
   "source": [
    "## heatmap\n",
    "plt.figure(figsize=(10, 10))\n",
    "sns.heatmap(corr_matrix,annot=True, linewidths=0.1)"
   ]
  },
  {
   "cell_type": "code",
   "execution_count": 13,
   "metadata": {},
   "outputs": [
    {
     "data": {
      "text/plain": [
       "<seaborn.axisgrid.PairGrid at 0x2868d080f10>"
      ]
     },
     "execution_count": 13,
     "metadata": {},
     "output_type": "execute_result"
    },
    {
     "data": {
      "image/png": "[encoded data removed]",
      "text/plain": [
       "<Figure size 1080x1080 with 42 Axes>"
      ]
     },
     "metadata": {
      "needs_background": "light"
     },
     "output_type": "display_data"
    }
   ],
   "source": [
    "sns.pairplot(df)"
   ]
  },
  {
   "cell_type": "code",
   "execution_count": 14,
   "metadata": {},
   "outputs": [],
   "source": [
    "# split the data into independent and dependent variable    ##classsification\n",
    "from sklearn.model_selection import train_test_split\n",
    "X = df.iloc[:, 0:5].values  ##  same as X = df.iloc[:, 0:3002].values\n",
    "y = df.iloc[:, -1].values\n"
   ]
  },
  {
   "cell_type": "code",
   "execution_count": 15,
   "metadata": {},
   "outputs": [],
   "source": [
    "## split the data into trainig and testing set\n",
    "X_train, X_test, y_train, y_test = train_test_split(X,y, test_size = 0.2, random_state = 32)"
   ]
  },
  {
   "cell_type": "code",
   "execution_count": 16,
   "metadata": {},
   "outputs": [
    {
     "data": {
      "text/plain": [
       "LinearRegression()"
      ]
     },
     "execution_count": 16,
     "metadata": {},
     "output_type": "execute_result"
    }
   ],
   "source": [
    "## LINEAR REGESSION\n",
    "lin_reg = LinearRegression()\n",
    "lin_reg.fit(X_train,y_train)"
   ]
  },
  {
   "cell_type": "code",
   "execution_count": 17,
   "metadata": {},
   "outputs": [],
   "source": [
    "pred_lin = lin_reg.predict(X_test)"
   ]
  },
  {
   "cell_type": "code",
   "execution_count": 18,
   "metadata": {},
   "outputs": [
    {
     "data": {
      "text/html": [
       "<div>\n",
       "<style scoped>\n",
       "    .dataframe tbody tr th:only-of-type {\n",
       "        vertical-align: middle;\n",
       "    }\n",
       "\n",
       "    .dataframe tbody tr th {\n",
       "        vertical-align: top;\n",
       "    }\n",
       "\n",
       "    .dataframe thead th {\n",
       "        text-align: right;\n",
       "    }\n",
       "</style>\n",
       "<table border=\"1\" class=\"dataframe\">\n",
       "  <thead>\n",
       "    <tr style=\"text-align: right;\">\n",
       "      <th></th>\n",
       "      <th>Actual</th>\n",
       "      <th>Predicted</th>\n",
       "    </tr>\n",
       "  </thead>\n",
       "  <tbody>\n",
       "    <tr>\n",
       "      <th>0</th>\n",
       "      <td>1220000</td>\n",
       "      <td>1.332593e+06</td>\n",
       "    </tr>\n",
       "    <tr>\n",
       "      <th>1</th>\n",
       "      <td>700000</td>\n",
       "      <td>6.878656e+05</td>\n",
       "    </tr>\n",
       "    <tr>\n",
       "      <th>2</th>\n",
       "      <td>220000</td>\n",
       "      <td>3.576040e+05</td>\n",
       "    </tr>\n",
       "    <tr>\n",
       "      <th>3</th>\n",
       "      <td>525000</td>\n",
       "      <td>3.721693e+05</td>\n",
       "    </tr>\n",
       "    <tr>\n",
       "      <th>4</th>\n",
       "      <td>165000</td>\n",
       "      <td>5.929235e+04</td>\n",
       "    </tr>\n",
       "    <tr>\n",
       "      <th>...</th>\n",
       "      <td>...</td>\n",
       "      <td>...</td>\n",
       "    </tr>\n",
       "    <tr>\n",
       "      <th>1577</th>\n",
       "      <td>500000</td>\n",
       "      <td>7.388188e+05</td>\n",
       "    </tr>\n",
       "    <tr>\n",
       "      <th>1578</th>\n",
       "      <td>400000</td>\n",
       "      <td>4.097022e+05</td>\n",
       "    </tr>\n",
       "    <tr>\n",
       "      <th>1579</th>\n",
       "      <td>650000</td>\n",
       "      <td>1.605737e+06</td>\n",
       "    </tr>\n",
       "    <tr>\n",
       "      <th>1580</th>\n",
       "      <td>240000</td>\n",
       "      <td>2.695413e+05</td>\n",
       "    </tr>\n",
       "    <tr>\n",
       "      <th>1581</th>\n",
       "      <td>900000</td>\n",
       "      <td>1.210031e+06</td>\n",
       "    </tr>\n",
       "  </tbody>\n",
       "</table>\n",
       "<p>1582 rows × 2 columns</p>\n",
       "</div>"
      ],
      "text/plain": [
       "       Actual     Predicted\n",
       "0     1220000  1.332593e+06\n",
       "1      700000  6.878656e+05\n",
       "2      220000  3.576040e+05\n",
       "3      525000  3.721693e+05\n",
       "4      165000  5.929235e+04\n",
       "...       ...           ...\n",
       "1577   500000  7.388188e+05\n",
       "1578   400000  4.097022e+05\n",
       "1579   650000  1.605737e+06\n",
       "1580   240000  2.695413e+05\n",
       "1581   900000  1.210031e+06\n",
       "\n",
       "[1582 rows x 2 columns]"
      ]
     },
     "execution_count": 18,
     "metadata": {},
     "output_type": "execute_result"
    }
   ],
   "source": [
    "## dataframe for predictions\n",
    "pd.DataFrame({'Actual' : y_test, 'Predicted' : pred_lin})"
   ]
  },
  {
   "cell_type": "code",
   "execution_count": 19,
   "metadata": {},
   "outputs": [
    {
     "name": "stdout",
     "output_type": "stream",
     "text": [
      "MAE: 285883.71155686304\n",
      "MSE: 231100266608.40247\n",
      "RMSE: 480728.89096496213\n",
      "R2: 0.6277100856351766\n"
     ]
    }
   ],
   "source": [
    "## MAE mean ABS error\n",
    "## MSE square error (average of the square of differences, lower-better)\n",
    "## RMSE\n",
    "## R2 (measure of variations/changes of the target value, 0 o 1, higher is better)\n",
    "\n",
    "print('MAE:', metrics.mean_absolute_error(y_test, pred_lin))\n",
    "print('MSE:', metrics.mean_squared_error(y_test, pred_lin))\n",
    "print('RMSE:', np.sqrt(metrics.mean_squared_error(y_test, pred_lin)))\n",
    "print('R2:', metrics.r2_score(y_test, pred_lin))"
   ]
  },
  {
   "cell_type": "code",
   "execution_count": 20,
   "metadata": {},
   "outputs": [
    {
     "name": "stderr",
     "output_type": "stream",
     "text": [
      "c:\\Anaconda3\\lib\\site-packages\\sklearn\\linear_model\\_logistic.py:762: ConvergenceWarning: lbfgs failed to converge (status=1):\n",
      "STOP: TOTAL NO. of ITERATIONS REACHED LIMIT.\n",
      "\n",
      "Increase the number of iterations (max_iter) or scale the data as shown in:\n",
      "    https://scikit-learn.org/stable/modules/preprocessing.html\n",
      "Please also refer to the documentation for alternative solver options:\n",
      "    https://scikit-learn.org/stable/modules/linear_model.html#logistic-regression\n",
      "  n_iter_i = _check_optimize_result(\n"
     ]
    },
    {
     "data": {
      "text/plain": [
       "LogisticRegression()"
      ]
     },
     "execution_count": 20,
     "metadata": {},
     "output_type": "execute_result"
    }
   ],
   "source": [
    "## train the LOGISTIC REGRESSION\n",
    "model_LR = LogisticRegression()\n",
    "model_LR.fit(X_train, y_train)"
   ]
  },
  {
   "cell_type": "code",
   "execution_count": 21,
   "metadata": {},
   "outputs": [
    {
     "data": {
      "text/html": [
       "<div>\n",
       "<style scoped>\n",
       "    .dataframe tbody tr th:only-of-type {\n",
       "        vertical-align: middle;\n",
       "    }\n",
       "\n",
       "    .dataframe tbody tr th {\n",
       "        vertical-align: top;\n",
       "    }\n",
       "\n",
       "    .dataframe thead th {\n",
       "        text-align: right;\n",
       "    }\n",
       "</style>\n",
       "<table border=\"1\" class=\"dataframe\">\n",
       "  <thead>\n",
       "    <tr style=\"text-align: right;\">\n",
       "      <th></th>\n",
       "      <th>Actual</th>\n",
       "      <th>Prediction</th>\n",
       "    </tr>\n",
       "  </thead>\n",
       "  <tbody>\n",
       "    <tr>\n",
       "      <th>0</th>\n",
       "      <td>1220000</td>\n",
       "      <td>650000</td>\n",
       "    </tr>\n",
       "    <tr>\n",
       "      <th>1</th>\n",
       "      <td>700000</td>\n",
       "      <td>650000</td>\n",
       "    </tr>\n",
       "    <tr>\n",
       "      <th>2</th>\n",
       "      <td>220000</td>\n",
       "      <td>650000</td>\n",
       "    </tr>\n",
       "    <tr>\n",
       "      <th>3</th>\n",
       "      <td>525000</td>\n",
       "      <td>300000</td>\n",
       "    </tr>\n",
       "    <tr>\n",
       "      <th>4</th>\n",
       "      <td>165000</td>\n",
       "      <td>300000</td>\n",
       "    </tr>\n",
       "    <tr>\n",
       "      <th>...</th>\n",
       "      <td>...</td>\n",
       "      <td>...</td>\n",
       "    </tr>\n",
       "    <tr>\n",
       "      <th>1577</th>\n",
       "      <td>500000</td>\n",
       "      <td>600000</td>\n",
       "    </tr>\n",
       "    <tr>\n",
       "      <th>1578</th>\n",
       "      <td>400000</td>\n",
       "      <td>300000</td>\n",
       "    </tr>\n",
       "    <tr>\n",
       "      <th>1579</th>\n",
       "      <td>650000</td>\n",
       "      <td>600000</td>\n",
       "    </tr>\n",
       "    <tr>\n",
       "      <th>1580</th>\n",
       "      <td>240000</td>\n",
       "      <td>550000</td>\n",
       "    </tr>\n",
       "    <tr>\n",
       "      <th>1581</th>\n",
       "      <td>900000</td>\n",
       "      <td>550000</td>\n",
       "    </tr>\n",
       "  </tbody>\n",
       "</table>\n",
       "<p>1582 rows × 2 columns</p>\n",
       "</div>"
      ],
      "text/plain": [
       "       Actual  Prediction\n",
       "0     1220000      650000\n",
       "1      700000      650000\n",
       "2      220000      650000\n",
       "3      525000      300000\n",
       "4      165000      300000\n",
       "...       ...         ...\n",
       "1577   500000      600000\n",
       "1578   400000      300000\n",
       "1579   650000      600000\n",
       "1580   240000      550000\n",
       "1581   900000      550000\n",
       "\n",
       "[1582 rows x 2 columns]"
      ]
     },
     "execution_count": 21,
     "metadata": {},
     "output_type": "execute_result"
    }
   ],
   "source": [
    "## make the prediction\n",
    "pred_LR = model_LR.predict(X_test) \n",
    "pd.DataFrame({'Actual': y_test, 'Prediction': pred_LR})"
   ]
  },
  {
   "cell_type": "code",
   "execution_count": 22,
   "metadata": {},
   "outputs": [
    {
     "data": {
      "text/plain": [
       "0.028445006321112517"
      ]
     },
     "execution_count": 22,
     "metadata": {},
     "output_type": "execute_result"
    }
   ],
   "source": [
    "## evaluate the model accuracy\n",
    "accuracy_LR =accuracy_score(y_test, pred_LR)\n",
    "accuracy_LR"
   ]
  },
  {
   "cell_type": "code",
   "execution_count": 23,
   "metadata": {},
   "outputs": [
    {
     "name": "stdout",
     "output_type": "stream",
     "text": [
      "MAE: 341842.31226295826\n",
      "MSE: 585024268042.7534\n",
      "RMSE: 764868.7913902315\n",
      "R2: 0.05755783908272927\n"
     ]
    }
   ],
   "source": [
    "## MAE mean ABS error\n",
    "## MSE square error (average of the square of differences, lower-better)\n",
    "## RMSE\n",
    "## R2 (measure of variations/changes of the target value, 0 o 1, higher is better)\n",
    "\n",
    "print('MAE:', metrics.mean_absolute_error(y_test, pred_LR))\n",
    "print('MSE:', metrics.mean_squared_error(y_test, pred_LR))\n",
    "print('RMSE:', np.sqrt(metrics.mean_squared_error(y_test, pred_LR)))\n",
    "print('R2:', metrics.r2_score(y_test, pred_LR))"
   ]
  },
  {
   "cell_type": "code",
   "execution_count": 24,
   "metadata": {},
   "outputs": [
    {
     "data": {
      "text/plain": [
       "GaussianNB()"
      ]
     },
     "execution_count": 24,
     "metadata": {},
     "output_type": "execute_result"
    }
   ],
   "source": [
    "# NAIVE BAYES\n",
    "model_NB = GaussianNB()\n",
    "model_NB.fit(X_train, y_train)"
   ]
  },
  {
   "cell_type": "code",
   "execution_count": 25,
   "metadata": {},
   "outputs": [
    {
     "data": {
      "text/html": [
       "<div>\n",
       "<style scoped>\n",
       "    .dataframe tbody tr th:only-of-type {\n",
       "        vertical-align: middle;\n",
       "    }\n",
       "\n",
       "    .dataframe tbody tr th {\n",
       "        vertical-align: top;\n",
       "    }\n",
       "\n",
       "    .dataframe thead th {\n",
       "        text-align: right;\n",
       "    }\n",
       "</style>\n",
       "<table border=\"1\" class=\"dataframe\">\n",
       "  <thead>\n",
       "    <tr style=\"text-align: right;\">\n",
       "      <th></th>\n",
       "      <th>Actual</th>\n",
       "      <th>Prediction</th>\n",
       "    </tr>\n",
       "  </thead>\n",
       "  <tbody>\n",
       "    <tr>\n",
       "      <th>0</th>\n",
       "      <td>1220000</td>\n",
       "      <td>1220000</td>\n",
       "    </tr>\n",
       "    <tr>\n",
       "      <th>1</th>\n",
       "      <td>700000</td>\n",
       "      <td>740000</td>\n",
       "    </tr>\n",
       "    <tr>\n",
       "      <th>2</th>\n",
       "      <td>220000</td>\n",
       "      <td>350000</td>\n",
       "    </tr>\n",
       "    <tr>\n",
       "      <th>3</th>\n",
       "      <td>525000</td>\n",
       "      <td>225000</td>\n",
       "    </tr>\n",
       "    <tr>\n",
       "      <th>4</th>\n",
       "      <td>165000</td>\n",
       "      <td>276000</td>\n",
       "    </tr>\n",
       "    <tr>\n",
       "      <th>...</th>\n",
       "      <td>...</td>\n",
       "      <td>...</td>\n",
       "    </tr>\n",
       "    <tr>\n",
       "      <th>1577</th>\n",
       "      <td>500000</td>\n",
       "      <td>574000</td>\n",
       "    </tr>\n",
       "    <tr>\n",
       "      <th>1578</th>\n",
       "      <td>400000</td>\n",
       "      <td>388000</td>\n",
       "    </tr>\n",
       "    <tr>\n",
       "      <th>1579</th>\n",
       "      <td>650000</td>\n",
       "      <td>1500000</td>\n",
       "    </tr>\n",
       "    <tr>\n",
       "      <th>1580</th>\n",
       "      <td>240000</td>\n",
       "      <td>200000</td>\n",
       "    </tr>\n",
       "    <tr>\n",
       "      <th>1581</th>\n",
       "      <td>900000</td>\n",
       "      <td>850000</td>\n",
       "    </tr>\n",
       "  </tbody>\n",
       "</table>\n",
       "<p>1582 rows × 2 columns</p>\n",
       "</div>"
      ],
      "text/plain": [
       "       Actual  Prediction\n",
       "0     1220000     1220000\n",
       "1      700000      740000\n",
       "2      220000      350000\n",
       "3      525000      225000\n",
       "4      165000      276000\n",
       "...       ...         ...\n",
       "1577   500000      574000\n",
       "1578   400000      388000\n",
       "1579   650000     1500000\n",
       "1580   240000      200000\n",
       "1581   900000      850000\n",
       "\n",
       "[1582 rows x 2 columns]"
      ]
     },
     "execution_count": 25,
     "metadata": {},
     "output_type": "execute_result"
    }
   ],
   "source": [
    "#predit the test set\n",
    "y_pred_NB = model_NB.predict(X_test)\n",
    "pd.DataFrame({'Actual': y_test, 'Prediction': y_pred_NB})"
   ]
  },
  {
   "cell_type": "code",
   "execution_count": 26,
   "metadata": {},
   "outputs": [
    {
     "name": "stdout",
     "output_type": "stream",
     "text": [
      "0.07332490518331226\n",
      "[[0 0 0 ... 0 0 0]\n",
      " [0 0 0 ... 0 0 0]\n",
      " [0 0 0 ... 0 0 0]\n",
      " ...\n",
      " [0 0 0 ... 0 0 0]\n",
      " [0 0 0 ... 0 0 2]\n",
      " [0 0 0 ... 0 0 1]]\n"
     ]
    }
   ],
   "source": [
    "## evaluate the model accuracy\n",
    "accuracy_NB = accuracy_score(y_test,y_pred_NB)\n",
    "## confusion metrics\n",
    "conf_mat_NB = confusion_matrix(y_test,y_pred_NB)\n",
    "print(accuracy_NB)\n",
    "print(conf_mat_NB)"
   ]
  },
  {
   "cell_type": "code",
   "execution_count": 27,
   "metadata": {},
   "outputs": [
    {
     "name": "stdout",
     "output_type": "stream",
     "text": [
      "MAE: 157010.7793931732\n",
      "MSE: 80436459954.20164\n",
      "RMSE: 283613.2224600991\n",
      "R2: 0.8704212538235536\n"
     ]
    }
   ],
   "source": [
    "## MAE mean ABS error\n",
    "## MSE square error (average of the square of differences, lower-better)\n",
    "## RMSE\n",
    "## R2 (measure of variations/changes of the target value, 0 o 1, higher is better)\n",
    "\n",
    "print('MAE:', metrics.mean_absolute_error(y_test, y_pred_NB))\n",
    "print('MSE:', metrics.mean_squared_error(y_test, y_pred_NB))\n",
    "print('RMSE:', np.sqrt(metrics.mean_squared_error(y_test, y_pred_NB)))\n",
    "print('R2:', metrics.r2_score(y_test, y_pred_NB))"
   ]
  },
  {
   "cell_type": "code",
   "execution_count": 28,
   "metadata": {},
   "outputs": [
    {
     "data": {
      "text/plain": [
       "Lasso(alpha=0.99)"
      ]
     },
     "execution_count": 28,
     "metadata": {},
     "output_type": "execute_result"
    }
   ],
   "source": [
    "## LASSO - RIDGE REGRESSION\n",
    "model_lasso = Lasso(alpha=0.99)\n",
    "model_lasso.fit(X_train, y_train)"
   ]
  },
  {
   "cell_type": "code",
   "execution_count": 29,
   "metadata": {},
   "outputs": [
    {
     "data": {
      "text/html": [
       "<div>\n",
       "<style scoped>\n",
       "    .dataframe tbody tr th:only-of-type {\n",
       "        vertical-align: middle;\n",
       "    }\n",
       "\n",
       "    .dataframe tbody tr th {\n",
       "        vertical-align: top;\n",
       "    }\n",
       "\n",
       "    .dataframe thead th {\n",
       "        text-align: right;\n",
       "    }\n",
       "</style>\n",
       "<table border=\"1\" class=\"dataframe\">\n",
       "  <thead>\n",
       "    <tr style=\"text-align: right;\">\n",
       "      <th></th>\n",
       "      <th>Actual</th>\n",
       "      <th>Predicted</th>\n",
       "    </tr>\n",
       "  </thead>\n",
       "  <tbody>\n",
       "    <tr>\n",
       "      <th>0</th>\n",
       "      <td>1220000</td>\n",
       "      <td>1.332594e+06</td>\n",
       "    </tr>\n",
       "    <tr>\n",
       "      <th>1</th>\n",
       "      <td>700000</td>\n",
       "      <td>6.878656e+05</td>\n",
       "    </tr>\n",
       "    <tr>\n",
       "      <th>2</th>\n",
       "      <td>220000</td>\n",
       "      <td>3.576041e+05</td>\n",
       "    </tr>\n",
       "    <tr>\n",
       "      <th>3</th>\n",
       "      <td>525000</td>\n",
       "      <td>3.721692e+05</td>\n",
       "    </tr>\n",
       "    <tr>\n",
       "      <th>4</th>\n",
       "      <td>165000</td>\n",
       "      <td>5.929278e+04</td>\n",
       "    </tr>\n",
       "    <tr>\n",
       "      <th>...</th>\n",
       "      <td>...</td>\n",
       "      <td>...</td>\n",
       "    </tr>\n",
       "    <tr>\n",
       "      <th>1577</th>\n",
       "      <td>500000</td>\n",
       "      <td>7.388186e+05</td>\n",
       "    </tr>\n",
       "    <tr>\n",
       "      <th>1578</th>\n",
       "      <td>400000</td>\n",
       "      <td>4.097023e+05</td>\n",
       "    </tr>\n",
       "    <tr>\n",
       "      <th>1579</th>\n",
       "      <td>650000</td>\n",
       "      <td>1.605737e+06</td>\n",
       "    </tr>\n",
       "    <tr>\n",
       "      <th>1580</th>\n",
       "      <td>240000</td>\n",
       "      <td>2.695416e+05</td>\n",
       "    </tr>\n",
       "    <tr>\n",
       "      <th>1581</th>\n",
       "      <td>900000</td>\n",
       "      <td>1.210030e+06</td>\n",
       "    </tr>\n",
       "  </tbody>\n",
       "</table>\n",
       "<p>1582 rows × 2 columns</p>\n",
       "</div>"
      ],
      "text/plain": [
       "       Actual     Predicted\n",
       "0     1220000  1.332594e+06\n",
       "1      700000  6.878656e+05\n",
       "2      220000  3.576041e+05\n",
       "3      525000  3.721692e+05\n",
       "4      165000  5.929278e+04\n",
       "...       ...           ...\n",
       "1577   500000  7.388186e+05\n",
       "1578   400000  4.097023e+05\n",
       "1579   650000  1.605737e+06\n",
       "1580   240000  2.695416e+05\n",
       "1581   900000  1.210030e+06\n",
       "\n",
       "[1582 rows x 2 columns]"
      ]
     },
     "execution_count": 29,
     "metadata": {},
     "output_type": "execute_result"
    }
   ],
   "source": [
    "pred_lasso = model_lasso.predict(X_test)\n",
    "pd.DataFrame({'Actual': y_test,'Predicted': pred_lasso})"
   ]
  },
  {
   "cell_type": "code",
   "execution_count": 30,
   "metadata": {},
   "outputs": [
    {
     "name": "stdout",
     "output_type": "stream",
     "text": [
      "MAE: 285883.67473247007\n",
      "MSE: 231100253101.45856\n",
      "RMSE: 480728.8769165615\n",
      "R2: 0.6277101073941259\n"
     ]
    }
   ],
   "source": [
    "print('MAE:', metrics.mean_absolute_error(y_test, pred_lasso))\n",
    "print('MSE:', metrics.mean_squared_error(y_test, pred_lasso))\n",
    "print('RMSE:', np.sqrt(metrics.mean_squared_error(y_test, pred_lasso)))\n",
    "print('R2:', metrics.r2_score(y_test, pred_lasso))"
   ]
  },
  {
   "cell_type": "code",
   "execution_count": 31,
   "metadata": {},
   "outputs": [
    {
     "data": {
      "text/plain": [
       "RandomForestRegressor(random_state=32)"
      ]
     },
     "execution_count": 31,
     "metadata": {},
     "output_type": "execute_result"
    }
   ],
   "source": [
    "## RANDOM FOREST REGRESSION\n",
    "rf_reg = RandomForestRegressor(n_estimators=100 ,random_state=32)\n",
    "rf_reg.fit(X_train,y_train)"
   ]
  },
  {
   "cell_type": "code",
   "execution_count": 32,
   "metadata": {},
   "outputs": [
    {
     "data": {
      "text/html": [
       "<div>\n",
       "<style scoped>\n",
       "    .dataframe tbody tr th:only-of-type {\n",
       "        vertical-align: middle;\n",
       "    }\n",
       "\n",
       "    .dataframe tbody tr th {\n",
       "        vertical-align: top;\n",
       "    }\n",
       "\n",
       "    .dataframe thead th {\n",
       "        text-align: right;\n",
       "    }\n",
       "</style>\n",
       "<table border=\"1\" class=\"dataframe\">\n",
       "  <thead>\n",
       "    <tr style=\"text-align: right;\">\n",
       "      <th></th>\n",
       "      <th>Actual</th>\n",
       "      <th>Predicted</th>\n",
       "    </tr>\n",
       "  </thead>\n",
       "  <tbody>\n",
       "    <tr>\n",
       "      <th>0</th>\n",
       "      <td>1220000</td>\n",
       "      <td>1.222850e+06</td>\n",
       "    </tr>\n",
       "    <tr>\n",
       "      <th>1</th>\n",
       "      <td>700000</td>\n",
       "      <td>6.622217e+05</td>\n",
       "    </tr>\n",
       "    <tr>\n",
       "      <th>2</th>\n",
       "      <td>220000</td>\n",
       "      <td>3.189799e+05</td>\n",
       "    </tr>\n",
       "    <tr>\n",
       "      <th>3</th>\n",
       "      <td>525000</td>\n",
       "      <td>3.950180e+05</td>\n",
       "    </tr>\n",
       "    <tr>\n",
       "      <th>4</th>\n",
       "      <td>165000</td>\n",
       "      <td>2.423299e+05</td>\n",
       "    </tr>\n",
       "    <tr>\n",
       "      <th>...</th>\n",
       "      <td>...</td>\n",
       "      <td>...</td>\n",
       "    </tr>\n",
       "    <tr>\n",
       "      <th>1577</th>\n",
       "      <td>500000</td>\n",
       "      <td>4.962126e+05</td>\n",
       "    </tr>\n",
       "    <tr>\n",
       "      <th>1578</th>\n",
       "      <td>400000</td>\n",
       "      <td>4.214100e+05</td>\n",
       "    </tr>\n",
       "    <tr>\n",
       "      <th>1579</th>\n",
       "      <td>650000</td>\n",
       "      <td>8.089500e+05</td>\n",
       "    </tr>\n",
       "    <tr>\n",
       "      <th>1580</th>\n",
       "      <td>240000</td>\n",
       "      <td>2.249832e+05</td>\n",
       "    </tr>\n",
       "    <tr>\n",
       "      <th>1581</th>\n",
       "      <td>900000</td>\n",
       "      <td>7.838845e+05</td>\n",
       "    </tr>\n",
       "  </tbody>\n",
       "</table>\n",
       "<p>1582 rows × 2 columns</p>\n",
       "</div>"
      ],
      "text/plain": [
       "       Actual     Predicted\n",
       "0     1220000  1.222850e+06\n",
       "1      700000  6.622217e+05\n",
       "2      220000  3.189799e+05\n",
       "3      525000  3.950180e+05\n",
       "4      165000  2.423299e+05\n",
       "...       ...           ...\n",
       "1577   500000  4.962126e+05\n",
       "1578   400000  4.214100e+05\n",
       "1579   650000  8.089500e+05\n",
       "1580   240000  2.249832e+05\n",
       "1581   900000  7.838845e+05\n",
       "\n",
       "[1582 rows x 2 columns]"
      ]
     },
     "execution_count": 32,
     "metadata": {},
     "output_type": "execute_result"
    }
   ],
   "source": [
    "pred_rf = rf_reg.predict(X_test)\n",
    "pd.DataFrame({'Actual': y_test,'Predicted': pred_rf})"
   ]
  },
  {
   "cell_type": "code",
   "execution_count": 33,
   "metadata": {},
   "outputs": [
    {
     "name": "stdout",
     "output_type": "stream",
     "text": [
      "0.07332490518331226\n",
      "[[0 0 0 ... 0 0 0]\n",
      " [0 0 0 ... 0 0 0]\n",
      " [0 0 0 ... 0 0 0]\n",
      " ...\n",
      " [0 0 0 ... 0 0 0]\n",
      " [0 0 0 ... 0 0 2]\n",
      " [0 0 0 ... 0 0 1]]\n"
     ]
    }
   ],
   "source": [
    "## evaluate the model accuracy\n",
    "accuracy_NB = accuracy_score(y_test,y_pred_NB)\n",
    "## confusion metrics\n",
    "conf_mat_NB = confusion_matrix(y_test,y_pred_NB)\n",
    "print(accuracy_NB)\n",
    "print(conf_mat_NB)"
   ]
  },
  {
   "cell_type": "code",
   "execution_count": 34,
   "metadata": {},
   "outputs": [
    {
     "name": "stdout",
     "output_type": "stream",
     "text": [
      "MAE: 62724.247120792585\n",
      "MSE: 14525246551.943829\n",
      "RMSE: 120520.73079741854\n",
      "R2: 0.9766006206989183\n"
     ]
    }
   ],
   "source": [
    "print('MAE:', metrics.mean_absolute_error(y_test, pred_rf))\n",
    "print('MSE:', metrics.mean_squared_error(y_test, pred_rf))\n",
    "print('RMSE:', np.sqrt(metrics.mean_squared_error(y_test, pred_rf)))\n",
    "print('R2:', metrics.r2_score(y_test, pred_rf))"
   ]
  },
  {
   "cell_type": "code",
   "execution_count": 35,
   "metadata": {},
   "outputs": [
    {
     "data": {
      "text/plain": [
       "LinearRegression()"
      ]
     },
     "execution_count": 35,
     "metadata": {},
     "output_type": "execute_result"
    }
   ],
   "source": [
    "## POLYNOMIAL REGRESSION\n",
    "poly_reg = PolynomialFeatures(degree=2)\n",
    "x_train_2 = poly_reg.fit_transform(X_train)\n",
    "x_test_2 = poly_reg.transform(X_test)\n",
    "mul_reg = LinearRegression()\n",
    "mul_reg.fit(x_train_2,y_train)"
   ]
  },
  {
   "cell_type": "code",
   "execution_count": 36,
   "metadata": {},
   "outputs": [
    {
     "data": {
      "text/html": [
       "<div>\n",
       "<style scoped>\n",
       "    .dataframe tbody tr th:only-of-type {\n",
       "        vertical-align: middle;\n",
       "    }\n",
       "\n",
       "    .dataframe tbody tr th {\n",
       "        vertical-align: top;\n",
       "    }\n",
       "\n",
       "    .dataframe thead th {\n",
       "        text-align: right;\n",
       "    }\n",
       "</style>\n",
       "<table border=\"1\" class=\"dataframe\">\n",
       "  <thead>\n",
       "    <tr style=\"text-align: right;\">\n",
       "      <th></th>\n",
       "      <th>Actual</th>\n",
       "      <th>Prediction</th>\n",
       "    </tr>\n",
       "  </thead>\n",
       "  <tbody>\n",
       "    <tr>\n",
       "      <th>0</th>\n",
       "      <td>1220000</td>\n",
       "      <td>1.439810e+06</td>\n",
       "    </tr>\n",
       "    <tr>\n",
       "      <th>1</th>\n",
       "      <td>700000</td>\n",
       "      <td>5.784358e+05</td>\n",
       "    </tr>\n",
       "    <tr>\n",
       "      <th>2</th>\n",
       "      <td>220000</td>\n",
       "      <td>2.794543e+05</td>\n",
       "    </tr>\n",
       "    <tr>\n",
       "      <th>3</th>\n",
       "      <td>525000</td>\n",
       "      <td>3.129923e+05</td>\n",
       "    </tr>\n",
       "    <tr>\n",
       "      <th>4</th>\n",
       "      <td>165000</td>\n",
       "      <td>1.059164e+05</td>\n",
       "    </tr>\n",
       "    <tr>\n",
       "      <th>...</th>\n",
       "      <td>...</td>\n",
       "      <td>...</td>\n",
       "    </tr>\n",
       "    <tr>\n",
       "      <th>1577</th>\n",
       "      <td>500000</td>\n",
       "      <td>6.571246e+05</td>\n",
       "    </tr>\n",
       "    <tr>\n",
       "      <th>1578</th>\n",
       "      <td>400000</td>\n",
       "      <td>3.130200e+05</td>\n",
       "    </tr>\n",
       "    <tr>\n",
       "      <th>1579</th>\n",
       "      <td>650000</td>\n",
       "      <td>1.549631e+06</td>\n",
       "    </tr>\n",
       "    <tr>\n",
       "      <th>1580</th>\n",
       "      <td>240000</td>\n",
       "      <td>1.685416e+05</td>\n",
       "    </tr>\n",
       "    <tr>\n",
       "      <th>1581</th>\n",
       "      <td>900000</td>\n",
       "      <td>8.273166e+05</td>\n",
       "    </tr>\n",
       "  </tbody>\n",
       "</table>\n",
       "<p>1582 rows × 2 columns</p>\n",
       "</div>"
      ],
      "text/plain": [
       "       Actual    Prediction\n",
       "0     1220000  1.439810e+06\n",
       "1      700000  5.784358e+05\n",
       "2      220000  2.794543e+05\n",
       "3      525000  3.129923e+05\n",
       "4      165000  1.059164e+05\n",
       "...       ...           ...\n",
       "1577   500000  6.571246e+05\n",
       "1578   400000  3.130200e+05\n",
       "1579   650000  1.549631e+06\n",
       "1580   240000  1.685416e+05\n",
       "1581   900000  8.273166e+05\n",
       "\n",
       "[1582 rows x 2 columns]"
      ]
     },
     "execution_count": 36,
     "metadata": {},
     "output_type": "execute_result"
    }
   ],
   "source": [
    "mul_pred = mul_reg.predict(x_test_2)\n",
    "pd.DataFrame({'Actual': y_test, 'Prediction': mul_pred})"
   ]
  },
  {
   "cell_type": "code",
   "execution_count": 37,
   "metadata": {},
   "outputs": [
    {
     "name": "stdout",
     "output_type": "stream",
     "text": [
      "MAE: 168901.34949145396\n",
      "MSE: 91800449951.29266\n",
      "RMSE: 302985.89068023063\n",
      "R2: 0.8521144862678561\n"
     ]
    }
   ],
   "source": [
    "print('MAE:', metrics.mean_absolute_error(y_test, mul_pred))\n",
    "print('MSE:', metrics.mean_squared_error(y_test, mul_pred))\n",
    "print('RMSE:', np.sqrt(metrics.mean_squared_error(y_test, mul_pred)))\n",
    "print('R2:', metrics.r2_score(y_test, mul_pred))"
   ]
  },
  {
   "cell_type": "code",
   "execution_count": 38,
   "metadata": {},
   "outputs": [
    {
     "data": {
      "text/plain": [
       "Ridge(alpha=0.99, random_state=32)"
      ]
     },
     "execution_count": 38,
     "metadata": {},
     "output_type": "execute_result"
    }
   ],
   "source": [
    "## RIDGE REGRESSION\n",
    "model_rigre = Ridge(alpha=0.99, random_state = 32)\n",
    "model_rigre.fit(X_train, y_train)"
   ]
  },
  {
   "cell_type": "code",
   "execution_count": 39,
   "metadata": {},
   "outputs": [
    {
     "data": {
      "text/html": [
       "<div>\n",
       "<style scoped>\n",
       "    .dataframe tbody tr th:only-of-type {\n",
       "        vertical-align: middle;\n",
       "    }\n",
       "\n",
       "    .dataframe tbody tr th {\n",
       "        vertical-align: top;\n",
       "    }\n",
       "\n",
       "    .dataframe thead th {\n",
       "        text-align: right;\n",
       "    }\n",
       "</style>\n",
       "<table border=\"1\" class=\"dataframe\">\n",
       "  <thead>\n",
       "    <tr style=\"text-align: right;\">\n",
       "      <th></th>\n",
       "      <th>Actual</th>\n",
       "      <th>Prediction</th>\n",
       "    </tr>\n",
       "  </thead>\n",
       "  <tbody>\n",
       "    <tr>\n",
       "      <th>0</th>\n",
       "      <td>1220000</td>\n",
       "      <td>1.332592e+06</td>\n",
       "    </tr>\n",
       "    <tr>\n",
       "      <th>1</th>\n",
       "      <td>700000</td>\n",
       "      <td>6.878640e+05</td>\n",
       "    </tr>\n",
       "    <tr>\n",
       "      <th>2</th>\n",
       "      <td>220000</td>\n",
       "      <td>3.576045e+05</td>\n",
       "    </tr>\n",
       "    <tr>\n",
       "      <th>3</th>\n",
       "      <td>525000</td>\n",
       "      <td>3.721697e+05</td>\n",
       "    </tr>\n",
       "    <tr>\n",
       "      <th>4</th>\n",
       "      <td>165000</td>\n",
       "      <td>5.929476e+04</td>\n",
       "    </tr>\n",
       "    <tr>\n",
       "      <th>...</th>\n",
       "      <td>...</td>\n",
       "      <td>...</td>\n",
       "    </tr>\n",
       "    <tr>\n",
       "      <th>1577</th>\n",
       "      <td>500000</td>\n",
       "      <td>7.388171e+05</td>\n",
       "    </tr>\n",
       "    <tr>\n",
       "      <th>1578</th>\n",
       "      <td>400000</td>\n",
       "      <td>4.097010e+05</td>\n",
       "    </tr>\n",
       "    <tr>\n",
       "      <th>1579</th>\n",
       "      <td>650000</td>\n",
       "      <td>1.605737e+06</td>\n",
       "    </tr>\n",
       "    <tr>\n",
       "      <th>1580</th>\n",
       "      <td>240000</td>\n",
       "      <td>2.695423e+05</td>\n",
       "    </tr>\n",
       "    <tr>\n",
       "      <th>1581</th>\n",
       "      <td>900000</td>\n",
       "      <td>1.210030e+06</td>\n",
       "    </tr>\n",
       "  </tbody>\n",
       "</table>\n",
       "<p>1582 rows × 2 columns</p>\n",
       "</div>"
      ],
      "text/plain": [
       "       Actual    Prediction\n",
       "0     1220000  1.332592e+06\n",
       "1      700000  6.878640e+05\n",
       "2      220000  3.576045e+05\n",
       "3      525000  3.721697e+05\n",
       "4      165000  5.929476e+04\n",
       "...       ...           ...\n",
       "1577   500000  7.388171e+05\n",
       "1578   400000  4.097010e+05\n",
       "1579   650000  1.605737e+06\n",
       "1580   240000  2.695423e+05\n",
       "1581   900000  1.210030e+06\n",
       "\n",
       "[1582 rows x 2 columns]"
      ]
     },
     "execution_count": 39,
     "metadata": {},
     "output_type": "execute_result"
    }
   ],
   "source": [
    "## prediction\n",
    "pred_ridge = model_rigre.predict(X_test)\n",
    "pd.DataFrame({'Actual': y_test, 'Prediction': pred_ridge})"
   ]
  },
  {
   "cell_type": "code",
   "execution_count": 40,
   "metadata": {},
   "outputs": [
    {
     "name": "stdout",
     "output_type": "stream",
     "text": [
      "MAE: 285883.4193761643\n",
      "MSE: 231100198850.8211\n",
      "RMSE: 480728.82049115916\n",
      "R2: 0.6277101947889414\n"
     ]
    }
   ],
   "source": [
    "print('MAE:', metrics.mean_absolute_error(y_test, pred_ridge))\n",
    "print('MSE:', metrics.mean_squared_error(y_test, pred_ridge))\n",
    "print('RMSE:', np.sqrt(metrics.mean_squared_error(y_test, pred_ridge)))\n",
    "print('R2:', metrics.r2_score(y_test, pred_ridge))"
   ]
  },
  {
   "cell_type": "code",
   "execution_count": 41,
   "metadata": {},
   "outputs": [
    {
     "data": {
      "text/plain": [
       "KNeighborsClassifier(n_neighbors=3)"
      ]
     },
     "execution_count": 41,
     "metadata": {},
     "output_type": "execute_result"
    }
   ],
   "source": [
    "## K-Nearest Neighbors\n",
    "Knn_model = KNeighborsClassifier(n_neighbors=3)\n",
    "##train my model\n",
    "Knn_model.fit(X_train, y_train)\n"
   ]
  },
  {
   "cell_type": "code",
   "execution_count": 42,
   "metadata": {},
   "outputs": [
    {
     "data": {
      "text/html": [
       "<div>\n",
       "<style scoped>\n",
       "    .dataframe tbody tr th:only-of-type {\n",
       "        vertical-align: middle;\n",
       "    }\n",
       "\n",
       "    .dataframe tbody tr th {\n",
       "        vertical-align: top;\n",
       "    }\n",
       "\n",
       "    .dataframe thead th {\n",
       "        text-align: right;\n",
       "    }\n",
       "</style>\n",
       "<table border=\"1\" class=\"dataframe\">\n",
       "  <thead>\n",
       "    <tr style=\"text-align: right;\">\n",
       "      <th></th>\n",
       "      <th>Actual</th>\n",
       "      <th>Predicted</th>\n",
       "    </tr>\n",
       "  </thead>\n",
       "  <tbody>\n",
       "    <tr>\n",
       "      <th>0</th>\n",
       "      <td>1220000</td>\n",
       "      <td>645000</td>\n",
       "    </tr>\n",
       "    <tr>\n",
       "      <th>1</th>\n",
       "      <td>700000</td>\n",
       "      <td>450000</td>\n",
       "    </tr>\n",
       "    <tr>\n",
       "      <th>2</th>\n",
       "      <td>220000</td>\n",
       "      <td>300000</td>\n",
       "    </tr>\n",
       "    <tr>\n",
       "      <th>3</th>\n",
       "      <td>525000</td>\n",
       "      <td>285000</td>\n",
       "    </tr>\n",
       "    <tr>\n",
       "      <th>4</th>\n",
       "      <td>165000</td>\n",
       "      <td>300000</td>\n",
       "    </tr>\n",
       "    <tr>\n",
       "      <th>...</th>\n",
       "      <td>...</td>\n",
       "      <td>...</td>\n",
       "    </tr>\n",
       "    <tr>\n",
       "      <th>1577</th>\n",
       "      <td>500000</td>\n",
       "      <td>450000</td>\n",
       "    </tr>\n",
       "    <tr>\n",
       "      <th>1578</th>\n",
       "      <td>400000</td>\n",
       "      <td>270000</td>\n",
       "    </tr>\n",
       "    <tr>\n",
       "      <th>1579</th>\n",
       "      <td>650000</td>\n",
       "      <td>800000</td>\n",
       "    </tr>\n",
       "    <tr>\n",
       "      <th>1580</th>\n",
       "      <td>240000</td>\n",
       "      <td>325000</td>\n",
       "    </tr>\n",
       "    <tr>\n",
       "      <th>1581</th>\n",
       "      <td>900000</td>\n",
       "      <td>380000</td>\n",
       "    </tr>\n",
       "  </tbody>\n",
       "</table>\n",
       "<p>1582 rows × 2 columns</p>\n",
       "</div>"
      ],
      "text/plain": [
       "       Actual  Predicted\n",
       "0     1220000     645000\n",
       "1      700000     450000\n",
       "2      220000     300000\n",
       "3      525000     285000\n",
       "4      165000     300000\n",
       "...       ...        ...\n",
       "1577   500000     450000\n",
       "1578   400000     270000\n",
       "1579   650000     800000\n",
       "1580   240000     325000\n",
       "1581   900000     380000\n",
       "\n",
       "[1582 rows x 2 columns]"
      ]
     },
     "execution_count": 42,
     "metadata": {},
     "output_type": "execute_result"
    }
   ],
   "source": [
    "## Make prediction\n",
    "y_pred_knn = Knn_model.predict(X_test)\n",
    "pd.DataFrame({'Actual': y_test, 'Predicted': y_pred_knn})"
   ]
  },
  {
   "cell_type": "code",
   "execution_count": 43,
   "metadata": {},
   "outputs": [
    {
     "name": "stdout",
     "output_type": "stream",
     "text": [
      "0.1447534766118837\n",
      "[[0 0 0 ... 0 0 0]\n",
      " [0 0 0 ... 0 0 0]\n",
      " [0 0 0 ... 0 0 0]\n",
      " ...\n",
      " [0 0 0 ... 9 0 0]\n",
      " [0 0 0 ... 0 0 0]\n",
      " [0 0 0 ... 0 0 1]]\n"
     ]
    }
   ],
   "source": [
    "## Evaluate the naive bayes model\n",
    "accuracy_knn = accuracy_score(y_test, y_pred_knn)\n",
    "conf_mat_knn = confusion_matrix(y_test, y_pred_knn)\n",
    "\n",
    "\n",
    "print(accuracy_knn)\n",
    "print(conf_mat_knn)"
   ]
  },
  {
   "cell_type": "code",
   "execution_count": 44,
   "metadata": {},
   "outputs": [],
   "source": [
    "## Decision tree classifier\n",
    "Decision_tree_gini = DecisionTreeClassifier(criterion = \"gini\", random_state = 80, max_depth=3, min_samples_leaf=5) \n",
    "Decision_tree_entropy = DecisionTreeClassifier(criterion = \"entropy\", random_state = 80, max_depth=3, min_samples_leaf=5) \n",
    "Decision_tree_max_depth = DecisionTreeClassifier(max_depth=5)"
   ]
  },
  {
   "cell_type": "code",
   "execution_count": 45,
   "metadata": {},
   "outputs": [
    {
     "data": {
      "text/plain": [
       "DecisionTreeClassifier(max_depth=5)"
      ]
     },
     "execution_count": 45,
     "metadata": {},
     "output_type": "execute_result"
    }
   ],
   "source": [
    "## trainiong my models\n",
    "Decision_tree_gini.fit(X_train,y_train)\n",
    "Decision_tree_entropy.fit(X_train,y_train)\n",
    "Decision_tree_max_depth.fit(X_train,y_train)"
   ]
  },
  {
   "cell_type": "code",
   "execution_count": 46,
   "metadata": {},
   "outputs": [],
   "source": [
    "## make prediction\n",
    "y_pred_gini = Decision_tree_gini.predict(X_test)\n",
    "y_pred_entropy = Decision_tree_entropy.predict(X_test)\n",
    "y_pred_depth3 = Decision_tree_max_depth.predict(X_test)"
   ]
  },
  {
   "cell_type": "code",
   "execution_count": 47,
   "metadata": {},
   "outputs": [
    {
     "data": {
      "text/html": [
       "<div>\n",
       "<style scoped>\n",
       "    .dataframe tbody tr th:only-of-type {\n",
       "        vertical-align: middle;\n",
       "    }\n",
       "\n",
       "    .dataframe tbody tr th {\n",
       "        vertical-align: top;\n",
       "    }\n",
       "\n",
       "    .dataframe thead th {\n",
       "        text-align: right;\n",
       "    }\n",
       "</style>\n",
       "<table border=\"1\" class=\"dataframe\">\n",
       "  <thead>\n",
       "    <tr style=\"text-align: right;\">\n",
       "      <th></th>\n",
       "      <th>Actual</th>\n",
       "      <th>Predicted</th>\n",
       "    </tr>\n",
       "  </thead>\n",
       "  <tbody>\n",
       "    <tr>\n",
       "      <th>0</th>\n",
       "      <td>1220000</td>\n",
       "      <td>600000</td>\n",
       "    </tr>\n",
       "    <tr>\n",
       "      <th>1</th>\n",
       "      <td>700000</td>\n",
       "      <td>600000</td>\n",
       "    </tr>\n",
       "    <tr>\n",
       "      <th>2</th>\n",
       "      <td>220000</td>\n",
       "      <td>300000</td>\n",
       "    </tr>\n",
       "    <tr>\n",
       "      <th>3</th>\n",
       "      <td>525000</td>\n",
       "      <td>600000</td>\n",
       "    </tr>\n",
       "    <tr>\n",
       "      <th>4</th>\n",
       "      <td>165000</td>\n",
       "      <td>120000</td>\n",
       "    </tr>\n",
       "    <tr>\n",
       "      <th>...</th>\n",
       "      <td>...</td>\n",
       "      <td>...</td>\n",
       "    </tr>\n",
       "    <tr>\n",
       "      <th>1577</th>\n",
       "      <td>500000</td>\n",
       "      <td>600000</td>\n",
       "    </tr>\n",
       "    <tr>\n",
       "      <th>1578</th>\n",
       "      <td>400000</td>\n",
       "      <td>300000</td>\n",
       "    </tr>\n",
       "    <tr>\n",
       "      <th>1579</th>\n",
       "      <td>650000</td>\n",
       "      <td>600000</td>\n",
       "    </tr>\n",
       "    <tr>\n",
       "      <th>1580</th>\n",
       "      <td>240000</td>\n",
       "      <td>250000</td>\n",
       "    </tr>\n",
       "    <tr>\n",
       "      <th>1581</th>\n",
       "      <td>900000</td>\n",
       "      <td>600000</td>\n",
       "    </tr>\n",
       "  </tbody>\n",
       "</table>\n",
       "<p>1582 rows × 2 columns</p>\n",
       "</div>"
      ],
      "text/plain": [
       "       Actual  Predicted\n",
       "0     1220000     600000\n",
       "1      700000     600000\n",
       "2      220000     300000\n",
       "3      525000     600000\n",
       "4      165000     120000\n",
       "...       ...        ...\n",
       "1577   500000     600000\n",
       "1578   400000     300000\n",
       "1579   650000     600000\n",
       "1580   240000     250000\n",
       "1581   900000     600000\n",
       "\n",
       "[1582 rows x 2 columns]"
      ]
     },
     "execution_count": 47,
     "metadata": {},
     "output_type": "execute_result"
    }
   ],
   "source": [
    "## make a dataframe prediction\n",
    "pd.DataFrame({'Actual': y_test, 'Predicted': y_pred_gini})"
   ]
  },
  {
   "cell_type": "code",
   "execution_count": 48,
   "metadata": {},
   "outputs": [
    {
     "data": {
      "text/html": [
       "<div>\n",
       "<style scoped>\n",
       "    .dataframe tbody tr th:only-of-type {\n",
       "        vertical-align: middle;\n",
       "    }\n",
       "\n",
       "    .dataframe tbody tr th {\n",
       "        vertical-align: top;\n",
       "    }\n",
       "\n",
       "    .dataframe thead th {\n",
       "        text-align: right;\n",
       "    }\n",
       "</style>\n",
       "<table border=\"1\" class=\"dataframe\">\n",
       "  <thead>\n",
       "    <tr style=\"text-align: right;\">\n",
       "      <th></th>\n",
       "      <th>Actual</th>\n",
       "      <th>Predicted</th>\n",
       "    </tr>\n",
       "  </thead>\n",
       "  <tbody>\n",
       "    <tr>\n",
       "      <th>0</th>\n",
       "      <td>1220000</td>\n",
       "      <td>850000</td>\n",
       "    </tr>\n",
       "    <tr>\n",
       "      <th>1</th>\n",
       "      <td>700000</td>\n",
       "      <td>600000</td>\n",
       "    </tr>\n",
       "    <tr>\n",
       "      <th>2</th>\n",
       "      <td>220000</td>\n",
       "      <td>300000</td>\n",
       "    </tr>\n",
       "    <tr>\n",
       "      <th>3</th>\n",
       "      <td>525000</td>\n",
       "      <td>350000</td>\n",
       "    </tr>\n",
       "    <tr>\n",
       "      <th>4</th>\n",
       "      <td>165000</td>\n",
       "      <td>120000</td>\n",
       "    </tr>\n",
       "    <tr>\n",
       "      <th>...</th>\n",
       "      <td>...</td>\n",
       "      <td>...</td>\n",
       "    </tr>\n",
       "    <tr>\n",
       "      <th>1577</th>\n",
       "      <td>500000</td>\n",
       "      <td>600000</td>\n",
       "    </tr>\n",
       "    <tr>\n",
       "      <th>1578</th>\n",
       "      <td>400000</td>\n",
       "      <td>300000</td>\n",
       "    </tr>\n",
       "    <tr>\n",
       "      <th>1579</th>\n",
       "      <td>650000</td>\n",
       "      <td>2000000</td>\n",
       "    </tr>\n",
       "    <tr>\n",
       "      <th>1580</th>\n",
       "      <td>240000</td>\n",
       "      <td>350000</td>\n",
       "    </tr>\n",
       "    <tr>\n",
       "      <th>1581</th>\n",
       "      <td>900000</td>\n",
       "      <td>850000</td>\n",
       "    </tr>\n",
       "  </tbody>\n",
       "</table>\n",
       "<p>1582 rows × 2 columns</p>\n",
       "</div>"
      ],
      "text/plain": [
       "       Actual  Predicted\n",
       "0     1220000     850000\n",
       "1      700000     600000\n",
       "2      220000     300000\n",
       "3      525000     350000\n",
       "4      165000     120000\n",
       "...       ...        ...\n",
       "1577   500000     600000\n",
       "1578   400000     300000\n",
       "1579   650000    2000000\n",
       "1580   240000     350000\n",
       "1581   900000     850000\n",
       "\n",
       "[1582 rows x 2 columns]"
      ]
     },
     "execution_count": 48,
     "metadata": {},
     "output_type": "execute_result"
    }
   ],
   "source": [
    "## make a dataframe prediction\n",
    "pd.DataFrame({'Actual': y_test, 'Predicted': y_pred_entropy})"
   ]
  },
  {
   "cell_type": "code",
   "execution_count": 49,
   "metadata": {},
   "outputs": [
    {
     "data": {
      "text/html": [
       "<div>\n",
       "<style scoped>\n",
       "    .dataframe tbody tr th:only-of-type {\n",
       "        vertical-align: middle;\n",
       "    }\n",
       "\n",
       "    .dataframe tbody tr th {\n",
       "        vertical-align: top;\n",
       "    }\n",
       "\n",
       "    .dataframe thead th {\n",
       "        text-align: right;\n",
       "    }\n",
       "</style>\n",
       "<table border=\"1\" class=\"dataframe\">\n",
       "  <thead>\n",
       "    <tr style=\"text-align: right;\">\n",
       "      <th></th>\n",
       "      <th>Actual</th>\n",
       "      <th>Predicted</th>\n",
       "    </tr>\n",
       "  </thead>\n",
       "  <tbody>\n",
       "    <tr>\n",
       "      <th>0</th>\n",
       "      <td>1220000</td>\n",
       "      <td>600000</td>\n",
       "    </tr>\n",
       "    <tr>\n",
       "      <th>1</th>\n",
       "      <td>700000</td>\n",
       "      <td>600000</td>\n",
       "    </tr>\n",
       "    <tr>\n",
       "      <th>2</th>\n",
       "      <td>220000</td>\n",
       "      <td>300000</td>\n",
       "    </tr>\n",
       "    <tr>\n",
       "      <th>3</th>\n",
       "      <td>525000</td>\n",
       "      <td>600000</td>\n",
       "    </tr>\n",
       "    <tr>\n",
       "      <th>4</th>\n",
       "      <td>165000</td>\n",
       "      <td>120000</td>\n",
       "    </tr>\n",
       "    <tr>\n",
       "      <th>...</th>\n",
       "      <td>...</td>\n",
       "      <td>...</td>\n",
       "    </tr>\n",
       "    <tr>\n",
       "      <th>1577</th>\n",
       "      <td>500000</td>\n",
       "      <td>600000</td>\n",
       "    </tr>\n",
       "    <tr>\n",
       "      <th>1578</th>\n",
       "      <td>400000</td>\n",
       "      <td>300000</td>\n",
       "    </tr>\n",
       "    <tr>\n",
       "      <th>1579</th>\n",
       "      <td>650000</td>\n",
       "      <td>2000000</td>\n",
       "    </tr>\n",
       "    <tr>\n",
       "      <th>1580</th>\n",
       "      <td>240000</td>\n",
       "      <td>200000</td>\n",
       "    </tr>\n",
       "    <tr>\n",
       "      <th>1581</th>\n",
       "      <td>900000</td>\n",
       "      <td>600000</td>\n",
       "    </tr>\n",
       "  </tbody>\n",
       "</table>\n",
       "<p>1582 rows × 2 columns</p>\n",
       "</div>"
      ],
      "text/plain": [
       "       Actual  Predicted\n",
       "0     1220000     600000\n",
       "1      700000     600000\n",
       "2      220000     300000\n",
       "3      525000     600000\n",
       "4      165000     120000\n",
       "...       ...        ...\n",
       "1577   500000     600000\n",
       "1578   400000     300000\n",
       "1579   650000    2000000\n",
       "1580   240000     200000\n",
       "1581   900000     600000\n",
       "\n",
       "[1582 rows x 2 columns]"
      ]
     },
     "execution_count": 49,
     "metadata": {},
     "output_type": "execute_result"
    }
   ],
   "source": [
    "## make a dataframe prediction\n",
    "pd.DataFrame({'Actual': y_test, 'Predicted': y_pred_depth3})"
   ]
  },
  {
   "cell_type": "code",
   "execution_count": 50,
   "metadata": {},
   "outputs": [
    {
     "name": "stdout",
     "output_type": "stream",
     "text": [
      "0.056890012642225034\n",
      "[[0 0 0 ... 0 0 0]\n",
      " [0 0 0 ... 0 0 0]\n",
      " [0 0 0 ... 0 0 0]\n",
      " ...\n",
      " [0 0 0 ... 0 0 0]\n",
      " [0 0 0 ... 0 0 0]\n",
      " [0 0 0 ... 0 0 0]]\n"
     ]
    }
   ],
   "source": [
    "## model evaluation\n",
    "## Evaluate the gini\n",
    "accuracy_gini = accuracy_score(y_test, y_pred_gini)\n",
    "conf_mat_gini = confusion_matrix(y_test, y_pred_gini)\n",
    "\n",
    "\n",
    "\n",
    "\n",
    "print(accuracy_gini)\n",
    "print(conf_mat_gini)"
   ]
  },
  {
   "cell_type": "code",
   "execution_count": 51,
   "metadata": {},
   "outputs": [
    {
     "name": "stdout",
     "output_type": "stream",
     "text": [
      "0.05941845764854614\n",
      "[[0 0 0 ... 0 0 0]\n",
      " [0 0 0 ... 0 0 0]\n",
      " [0 0 0 ... 0 0 0]\n",
      " ...\n",
      " [0 0 0 ... 0 0 0]\n",
      " [0 0 0 ... 0 0 0]\n",
      " [0 0 0 ... 0 0 0]]\n"
     ]
    }
   ],
   "source": [
    "## Evaluate the entropy\n",
    "accuracy_entropy = accuracy_score(y_test, y_pred_entropy)\n",
    "conf_mat_entropy = confusion_matrix(y_test, y_pred_entropy)\n",
    "\n",
    "\n",
    "print(accuracy_entropy)\n",
    "print(conf_mat_entropy)"
   ]
  },
  {
   "cell_type": "code",
   "execution_count": 52,
   "metadata": {},
   "outputs": [
    {
     "name": "stdout",
     "output_type": "stream",
     "text": [
      "0.09039190897597978\n",
      "[[0 0 1 ... 0 0 0]\n",
      " [0 0 1 ... 0 0 0]\n",
      " [0 0 0 ... 0 0 0]\n",
      " ...\n",
      " [0 0 0 ... 9 0 0]\n",
      " [0 0 0 ... 2 0 0]\n",
      " [0 0 0 ... 1 0 0]]\n"
     ]
    }
   ],
   "source": [
    "## Evaluate the max_depth\n",
    "accuracy_max_depth = accuracy_score(y_test, y_pred_depth3)\n",
    "conf_mat_max_depth = confusion_matrix(y_test, y_pred_depth3)\n",
    "\n",
    "\n",
    "print(accuracy_max_depth)\n",
    "print(conf_mat_max_depth)"
   ]
  }
 ],
 "metadata": {
  "kernelspec": {
   "display_name": "base",
   "language": "python",
   "name": "python3"
  },
  "language_info": {
   "codemirror_mode": {
    "name": "ipython",
    "version": 3
   },
   "file_extension": ".py",
   "mimetype": "text/x-python",
   "name": "python",
   "nbconvert_exporter": "python",
   "pygments_lexer": "ipython3",
   "version": "3.8.3"
  },
  "orig_nbformat": 4,
  "vscode": {
   "interpreter": {
    "hash": "e4cce46d6be9934fbd27f9ca0432556941ea5bdf741d4f4d64c6cd7f8dfa8fba"
   }
  }
 },
 "nbformat": 4,
 "nbformat_minor": 2
}
